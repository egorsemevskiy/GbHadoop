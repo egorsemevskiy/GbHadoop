{
 "cells": [
  {
   "cell_type": "markdown",
   "metadata": {},
   "source": [
    "# Урок 6. NoSQL в Hadoop. Hbase/Cassandra"
   ]
  },
  {
   "cell_type": "markdown",
   "metadata": {},
   "source": [
    "Задание в общем повторяет предыдущее: <br>\n",
    "Создать Flume поток используя Flume сервис соотвествующего номера:<br>\n",
    "• Тип источника источник – exeс<br>\n",
    "• Тип канала – memory<br>\n",
    "• Тип слива – hbase<br>"
   ]
  },
  {
   "cell_type": "raw",
   "metadata": {},
   "source": [
    "# Names of the Flume Agent components\n",
    " \n",
    "St8.sources = exec-source\n",
    "St8.channels = mem-channel\n",
    "St8.sinks = hdfs-sink hive-sink hbase-sinkn"
   ]
  },
  {
   "cell_type": "raw",
   "metadata": {},
   "source": [
    "# Configuration of the Sources \n",
    "# Exec Source\n",
    "St8.sources.exec-source.type = exec\n",
    "St8.sources.exec-source.channels = file-channel\n",
    "St8.sources.exec-source.command = tail -F /var/log/hadoop-hdfs/hdfs-audit-student3_8.log\n",
    "St8.sources.exec-source.logStdErr = true"
   ]
  },
  {
   "cell_type": "raw",
   "metadata": {},
   "source": [
    "# Configuration of the Channels\n",
    "# Memory Channel\n",
    "\n",
    "St8.channels.mem-channel.type = memory\n",
    "St8.channels.mem-channel.capacity = 1000\n",
    "St8.channels.mem-channel.transactionCapacity = 100"
   ]
  },
  {
   "cell_type": "raw",
   "metadata": {},
   "source": [
    "# Configure HBaseSink\n",
    "St8.sinks.hbase-sink.type = asynchbase\n",
    "St8.sinks.hbase-sink.channel = mem-channel\n",
    "St8.sinks.hbase-sink.table = student3_8\n",
    "St8.sinks.hbase-sink.columnFamily = Message\n",
    "St8.sinks.hbase-sink.serializer = org.apache.flume.sink.hbase.SimpleAsyncHbaseEventSerializer"
   ]
  },
  {
   "cell_type": "markdown",
   "metadata": {},
   "source": [
    "Создаю таблицу через Hbase shell "
   ]
  },
  {
   "cell_type": "raw",
   "metadata": {},
   "source": [
    "create 'student3_8', 'Message'"
   ]
  },
  {
   "cell_type": "raw",
   "metadata": {},
   "source": [
    "Ошибок в логе больше не было "
   ]
  }
 ],
 "metadata": {
  "kernelspec": {
   "display_name": "Python 3",
   "language": "python",
   "name": "python3"
  },
  "language_info": {
   "codemirror_mode": {
    "name": "ipython",
    "version": 3
   },
   "file_extension": ".py",
   "mimetype": "text/x-python",
   "name": "python",
   "nbconvert_exporter": "python",
   "pygments_lexer": "ipython3",
   "version": "3.7.6"
  }
 },
 "nbformat": 4,
 "nbformat_minor": 4
}
