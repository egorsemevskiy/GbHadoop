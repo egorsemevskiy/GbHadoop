{
 "cells": [
  {
   "cell_type": "markdown",
   "metadata": {},
   "source": [
    "# Настроить Flume"
   ]
  },
  {
   "cell_type": "code",
   "execution_count": null,
   "metadata": {},
   "outputs": [],
   "source": [
    "# Names of the Flume Agent components\n",
    " \n",
    "St8.sources = exec-source\n",
    "St8.channels = file-channel\n",
    "St8.sinks = hdfs-sink hive-sink\n",
    "\n",
    "# Configuration of the Sources \n",
    "# Exec Source\n",
    "St8.sources.exec-source.type = exec\n",
    "St8.sources.exec-source.channels = file-channel\n",
    "St8.sources.exec-source.command = tail -F /var/log/hadoop-hdfs/hdfs-audit-student3_8.log\n",
    "St8.sources.exec-source.logStdErr = true\n",
    "\n",
    "#Insert time\n",
    "St8.sources.exec-source.interceptors = tsi\n",
    "St8.sources.exec-source.interceptors.tsi.type = timestamp\n",
    "\n",
    "# Configuration of the Channels\n",
    "# File Channel\n",
    "St8.channels.file-channel.type = file\n",
    "St8.channels.file-channel.checkpointDir = /var/log/flume-ng/checkpoint\n",
    "St8.channels.file-channel.dataDirs = /var/log/flume-ng/checkpoint/data\n",
    "St8.channels.file-channel.capacity = 1000\n",
    "St8.channels.file-channel.transactionCapacity = 100\n",
    "\n",
    "# Configuration of the Sinks\n",
    "# HDFS Sink\n",
    "St8.sinks.hdfs-sink.type = hdfs\n",
    "St8.sinks.hdfs-sink.channel = file-channel\n",
    "St8.sinks.hdfs-sink.hdfs.path = /user/student3_8/project_logs\n",
    "St8.sinks.hdfs-sink.hdfs.filePrefix = flume-hdfslog-\n",
    "St8.sinks.hdfs-sink.hdfs.fileType = SequenceFile\n",
    "St8.sinks.hdfs-sink.hdfs.codeC = gzip\n",
    "St8.sinks.hdfs-sink.hdfs.rollCount = 0\n",
    "St8.sinks.hdfs-sink.hdfs.rollSize = 1000\n",
    "St8.sinks.hdfs-sink.hdfs.rollInterval = 0\n",
    "\n",
    "#Configuration hive-sink\n",
    "St8.sinks.hive-sink.type = hive\n",
    "St8.sinks.hive-sink.channel = FileChannel\n",
    "St8.sinks.hive-sink.hive.metastore = thrift://89.208.221.132.9083\n",
    "St8.sinks.hive-sink.hive.database = student3_8_db\n",
    "St8.sinks.hive-sink.hive.table = flume\n",
    "St8.sinks.hive-sink.hive.useLocalTimeStamp = true \n",
    "St8.sinks.hive-sink.hive.autoCtreatePartitions = true\n",
    "St8.sinks.hive-sink.hive.partition = %{Day}\n",
    "St8.sinks.hive-sink.serializer = delimited\n",
    "St8.sinks.hive-sink.serializer.delimiter = ','\n",
    "St8.sinks.hive-sink.serializer.serdeSeparator = ','\n",
    "St8.sinks.hive-sink.serializer.fieldnames = month, day, timestamp\n"
   ]
  },
  {
   "cell_type": "markdown",
   "metadata": {},
   "source": [
    "# Найти ошибку в NetCat Flume, ошибки не нашел "
   ]
  },
  {
   "cell_type": "code",
   "execution_count": null,
   "metadata": {},
   "outputs": [],
   "source": [
    "# Naming the components on the current agent\n",
    "NetcatAgent.sources = Netcat   \n",
    "NetcatAgent.channels = MemChannel \n",
    "NetcatAgent.sinks = LoggerSink  \n",
    "\n",
    "# insert timestamp\n",
    "NetcatAgent.sources.Netcat.interceptors = ts_interceptor\n",
    "NetcatAgent.sources.Netcat.interceptors.ts_interceptor.type = timestamp\n",
    "\n",
    "# Describing/Configuring the source \n",
    "NetcatAgent.sources.Netcat.type = netcat \n",
    "NetcatAgent.sources.Netcat.bind = 89.208.220.216\n",
    "NetcatAgent.sources.Netcat.port = 7401\n",
    "\n",
    "# Describing/Configuring the sink \n",
    "NetcatAgent.sinks.LoggerSink.type = hdfs\n",
    "NetcatAgent.sinks.LoggerSink.hdfs.path= /NetCat/snap_day=%Y%m%d/\n",
    "# NetcatAgent.sinks.LoggerSink.hdfs.path= /NetCat/\n",
    "NetcatAgent.sinks.LoggerSink.hdfs.filePrefix=flume_data\n",
    "NetcatAgent.sinks.LoggerSink.hdfs.fileType=SequenceFile\n",
    "#NetcatAgent.sinks.LoggerSink.hdfs.codeC=gzip\n",
    "\n",
    "# Describing/Configuring the channel \n",
    "NetcatAgent.channels.MemChannel.type = memory \n",
    "NetcatAgent.channels.MemChannel.capacity = 10000 \n",
    "NetcatAgent.channels.MemChannel.transactionCapacity = 10 \n",
    " \n",
    "# Bind the source and sink to the channel \n",
    "NetcatAgent.sources.Netcat.channels = MemChannel\n",
    "NetcatAgent.sinks.LoggerSink.channel = MemChannel"
   ]
  }
 ],
 "metadata": {
  "kernelspec": {
   "display_name": "Python 3",
   "language": "python",
   "name": "python3"
  },
  "language_info": {
   "codemirror_mode": {
    "name": "ipython",
    "version": 3
   },
   "file_extension": ".py",
   "mimetype": "text/x-python",
   "name": "python",
   "nbconvert_exporter": "python",
   "pygments_lexer": "ipython3",
   "version": "3.7.4"
  }
 },
 "nbformat": 4,
 "nbformat_minor": 2
}
